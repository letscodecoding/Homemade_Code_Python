{
 "cells": [
  {
   "cell_type": "code",
   "execution_count": 1,
   "metadata": {},
   "outputs": [
    {
     "name": "stdout",
     "output_type": "stream",
     "text": [
      "x is less than 5, it's currently at 0\n",
      "x is less than 5, it's currently at 1\n",
      "x is less than 5, it's currently at 2\n",
      "x is less than 5, it's currently at 3\n",
      "x is less than 5, it's currently at 4\n"
     ]
    }
   ],
   "source": [
    "# Let's take a look on while loops\n",
    "x=0\n",
    "while x<5:\n",
    "    print (\"x is less than 5, it's currently at\", x)\n",
    "    x+=1   "
   ]
  },
  {
   "cell_type": "code",
   "execution_count": 2,
   "metadata": {},
   "outputs": [
    {
     "name": "stdout",
     "output_type": "stream",
     "text": [
      "x is less than 5, it's currently at 0\n",
      "x is less than 5, it's currently at 1\n",
      "x is less than 5, it's currently at 2\n",
      "x is less than 5, it's currently at 3\n",
      "x is less than 5, it's currently at 4\n",
      "Nice one mate\n"
     ]
    }
   ],
   "source": [
    "# NOw adding an else statement\n",
    "x=0\n",
    "while x<5:\n",
    "    print (\"x is less than 5, it's currently at\", x)\n",
    "    x+=1\n",
    "else:\n",
    "    print(\"Nice one mate\")"
   ]
  },
  {
   "cell_type": "markdown",
   "metadata": {},
   "source": [
    "Now we're going to introduce 3 new statements :\n",
    "\n",
    "- Break : As the statement says, it breaks the code stopping if a condition is meet;\n",
    "- Continue : it goes to the beggining of the loop;\n",
    "- Pass : it let the code run, without doing anything at all.\n",
    "\n"
   ]
  },
  {
   "cell_type": "code",
   "execution_count": 14,
   "metadata": {},
   "outputs": [
    {
     "name": "stdout",
     "output_type": "stream",
     "text": [
      "x is less than 5, it's currently at 0\n",
      "Let's continue\n",
      "x is less than 5, it's currently at 1\n",
      "the x is equal to 2\n",
      "x is less than 5, it's currently at 2\n",
      "Let's continue\n",
      "x is less than 5, it's currently at 3\n",
      "Let's continue\n",
      "x is less than 5, it's currently at 4\n",
      "Let's continue\n"
     ]
    }
   ],
   "source": [
    "# So let's use the statement continue\n",
    "\n",
    "x=0\n",
    "while x<5:\n",
    "    print (\"x is less than 5, it's currently at\", x)\n",
    "    x+=1\n",
    "    if x==2:\n",
    "        print(\"the x is equal to 2\")\n",
    "    else:\n",
    "        print(\"Let's continue\")\n",
    "        continue"
   ]
  },
  {
   "cell_type": "code",
   "execution_count": 16,
   "metadata": {},
   "outputs": [
    {
     "name": "stdout",
     "output_type": "stream",
     "text": [
      "x is less than 5, it's currently at 0\n",
      "Let's continue\n",
      "x is less than 5, it's currently at 1\n",
      "the x is equal to 2\n"
     ]
    }
   ],
   "source": [
    "#Now to see the differences let's use the tatement break\n",
    "x=0\n",
    "while x<5:\n",
    "    print (\"x is less than 5, it's currently at\", x)\n",
    "    x+=1\n",
    "    if x==2:\n",
    "        print(\"the x is equal to 2\")\n",
    "        break\n",
    "    else:\n",
    "        print(\"Let's continue\")\n",
    "        continue"
   ]
  },
  {
   "cell_type": "code",
   "execution_count": null,
   "metadata": {},
   "outputs": [],
   "source": []
  }
 ],
 "metadata": {
  "kernelspec": {
   "display_name": "Python 3",
   "language": "python",
   "name": "python3"
  },
  "language_info": {
   "codemirror_mode": {
    "name": "ipython",
    "version": 3
   },
   "file_extension": ".py",
   "mimetype": "text/x-python",
   "name": "python",
   "nbconvert_exporter": "python",
   "pygments_lexer": "ipython3",
   "version": "3.6.5"
  }
 },
 "nbformat": 4,
 "nbformat_minor": 2
}
