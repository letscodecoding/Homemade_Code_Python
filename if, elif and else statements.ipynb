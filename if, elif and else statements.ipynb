{
 "cells": [
  {
   "cell_type": "code",
   "execution_count": 1,
   "metadata": {},
   "outputs": [
    {
     "name": "stdout",
     "output_type": "stream",
     "text": [
      "What's your location?Shop\n"
     ]
    },
    {
     "data": {
      "text/plain": [
       "'Shop'"
      ]
     },
     "execution_count": 1,
     "metadata": {},
     "output_type": "execute_result"
    }
   ],
   "source": [
    "# Now we're going to make our code more user responsive using the input() function and some if, elif and\n",
    "# else statements, as follows:\n",
    "\n",
    "input(\"What's your location?\")\n",
    "\n",
    "\n",
    "#Now you only need to fill the white rectangle, as we demonstrate."
   ]
  },
  {
   "cell_type": "code",
   "execution_count": 3,
   "metadata": {},
   "outputs": [
    {
     "name": "stdout",
     "output_type": "stream",
     "text": [
      "What's your location?barber\n",
      "welcome to the barber\n"
     ]
    }
   ],
   "source": [
    "location=input(\"What's your location?\")\n",
    "\n",
    "if location==\"shop\":\n",
    "    print(\"welcome to the shop\")\n",
    "elif location==\"barber\":\n",
    "    print(\"welcome to the barber\")\n",
    "elif location==\"bank\":\n",
    "    print(\"welcome to the bank\")\n",
    "else:\n",
    "    print(\"Where are you??\")"
   ]
  },
  {
   "cell_type": "code",
   "execution_count": 4,
   "metadata": {},
   "outputs": [
    {
     "name": "stdout",
     "output_type": "stream",
     "text": [
      "What's your name?Jon\n",
      "Nice to meet you, Jon\n"
     ]
    }
   ],
   "source": [
    "# Another example\n",
    "Name=input(\"What's your name?\")\n",
    "\n",
    "if Name==\"Maria\":\n",
    "    print(\"Nice to meet you, Maria\")\n",
    "elif Name==\"Max\":\n",
    "    print(\"Nice to meet you, Max\")\n",
    "elif Name==\"Charlie\":\n",
    "    print(\"Nice to meet you, Charlie\")\n",
    "elif Name==\"Jon\":\n",
    "    print(\"Nice to meet you, Jon\")\n",
    "else:\n",
    "    print(\"Who are you?\")"
   ]
  },
  {
   "cell_type": "code",
   "execution_count": null,
   "metadata": {},
   "outputs": [],
   "source": []
  }
 ],
 "metadata": {
  "kernelspec": {
   "display_name": "Python 3",
   "language": "python",
   "name": "python3"
  },
  "language_info": {
   "codemirror_mode": {
    "name": "ipython",
    "version": 3
   },
   "file_extension": ".py",
   "mimetype": "text/x-python",
   "name": "python",
   "nbconvert_exporter": "python",
   "pygments_lexer": "ipython3",
   "version": "3.6.5"
  }
 },
 "nbformat": 4,
 "nbformat_minor": 2
}
