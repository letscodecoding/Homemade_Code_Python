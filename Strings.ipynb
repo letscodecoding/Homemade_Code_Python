{
 "cells": [
  {
   "cell_type": "markdown",
   "metadata": {},
   "source": [
    "Now we'll start with strings, which is nothing more nothing less than a sequence of letters in a determined order.\n",
    "Like for example the word \"Hello\". For python it is a text composed by H, e, l, l, o."
   ]
  },
  {
   "cell_type": "code",
   "execution_count": 3,
   "metadata": {},
   "outputs": [
    {
     "name": "stdout",
     "output_type": "stream",
     "text": [
      "Hello World\n"
     ]
    }
   ],
   "source": [
    "# let's now start printing phrases (be advised that Python is key sensitive)\n",
    "print(\"Hello World\")"
   ]
  },
  {
   "cell_type": "code",
   "execution_count": 4,
   "metadata": {},
   "outputs": [
    {
     "ename": "NameError",
     "evalue": "name 'Print' is not defined",
     "output_type": "error",
     "traceback": [
      "\u001b[1;31m---------------------------------------------------------------------------\u001b[0m",
      "\u001b[1;31mNameError\u001b[0m                                 Traceback (most recent call last)",
      "\u001b[1;32m<ipython-input-4-4f0dbd4dad47>\u001b[0m in \u001b[0;36m<module>\u001b[1;34m()\u001b[0m\n\u001b[0;32m      1\u001b[0m \u001b[1;31m# When we say key sensitive, we're reffering for this type of situations\u001b[0m\u001b[1;33m\u001b[0m\u001b[1;33m\u001b[0m\u001b[0m\n\u001b[1;32m----> 2\u001b[1;33m \u001b[0mPrint\u001b[0m\u001b[1;33m(\u001b[0m\u001b[1;34m\"Hello World\"\u001b[0m\u001b[1;33m)\u001b[0m\u001b[1;33m\u001b[0m\u001b[0m\n\u001b[0m",
      "\u001b[1;31mNameError\u001b[0m: name 'Print' is not defined"
     ]
    }
   ],
   "source": [
    "# When we say key sensitive, we're reffering for this type of situations\n",
    "Print(\"Hello World\")"
   ]
  },
  {
   "cell_type": "code",
   "execution_count": 6,
   "metadata": {},
   "outputs": [
    {
     "name": "stdout",
     "output_type": "stream",
     "text": [
      "Hello World\n"
     ]
    }
   ],
   "source": [
    "# Python also assumes '' = \"\", so we can write as follows:\n",
    "print('Hello World')"
   ]
  },
  {
   "cell_type": "code",
   "execution_count": 12,
   "metadata": {},
   "outputs": [
    {
     "name": "stdout",
     "output_type": "stream",
     "text": [
      "Peter, the news sad that 'tomorrow it is going to be sunny.'\n"
     ]
    }
   ],
   "source": [
    "# It's also possible to use singles quotes inside double quotes\n",
    "print(\"Peter, the news sad that 'tomorrow it is going to be sunny.'\")"
   ]
  },
  {
   "cell_type": "code",
   "execution_count": 24,
   "metadata": {},
   "outputs": [
    {
     "name": "stdout",
     "output_type": "stream",
     "text": [
      "Hello Homemade_Code supporters\n",
      "What are you thinking about these \n",
      "examples till now?\n",
      "\n",
      "\n",
      "Now we'll start analyzing the strings\n"
     ]
    }
   ],
   "source": [
    "# Let's print several strings (notices that with \\n we write the string that's after \\n in the next line)\n",
    "print(\"Hello Homemade_Code supporters\")\n",
    "print(\"What are you thinking about these \\nexamples till now?\")\n",
    "print(\"\\n\")\n",
    "print(\"Now we'll start analyzing the strings\")"
   ]
  },
  {
   "cell_type": "code",
   "execution_count": 26,
   "metadata": {},
   "outputs": [
    {
     "data": {
      "text/plain": [
       "11"
      ]
     },
     "execution_count": 26,
     "metadata": {},
     "output_type": "execute_result"
    }
   ],
   "source": [
    "# let's start analyzing the lenght of a string\n",
    "len(\"Hello World\")\n",
    "# The space is also considered in the lenght count"
   ]
  },
  {
   "cell_type": "code",
   "execution_count": 27,
   "metadata": {},
   "outputs": [],
   "source": [
    "# Now in order to analyze the indexing of a string, we need to assign a variable, such as:\n",
    "a=\"Hello World\""
   ]
  },
  {
   "cell_type": "code",
   "execution_count": 30,
   "metadata": {},
   "outputs": [
    {
     "name": "stdout",
     "output_type": "stream",
     "text": [
      "Hello World\n"
     ]
    }
   ],
   "source": [
    "#Is it working??\n",
    "print(a)\n",
    "\n",
    "#Yup"
   ]
  },
  {
   "cell_type": "code",
   "execution_count": 34,
   "metadata": {},
   "outputs": [
    {
     "data": {
      "text/plain": [
       "'o'"
      ]
     },
     "execution_count": 34,
     "metadata": {},
     "output_type": "execute_result"
    }
   ],
   "source": [
    "# Python can you please show me the forth character of the string??\n",
    "a[4]"
   ]
  },
  {
   "cell_type": "markdown",
   "metadata": {},
   "source": [
    "If you count all the letters you'll conclude that it should appear an \"l\", but you need to have in consideration that Python starts counting from zero. That's why it appeared an \"o\"."
   ]
  },
  {
   "cell_type": "code",
   "execution_count": 36,
   "metadata": {},
   "outputs": [
    {
     "data": {
      "text/plain": [
       "'llo W'"
      ]
     },
     "execution_count": 36,
     "metadata": {},
     "output_type": "execute_result"
    }
   ],
   "source": [
    "# Now show me the interval between 2nd character till the end\n",
    "a[2:]"
   ]
  },
  {
   "cell_type": "code",
   "execution_count": 37,
   "metadata": {},
   "outputs": [
    {
     "data": {
      "text/plain": [
       "'llo W'"
      ]
     },
     "execution_count": 37,
     "metadata": {},
     "output_type": "execute_result"
    }
   ],
   "source": [
    "# Now show me the interval between 2nd character and the 7th character\n",
    "a[2:7]"
   ]
  },
  {
   "cell_type": "markdown",
   "metadata": {},
   "source": [
    "In this example the interval was from the secound character till the seventh not include"
   ]
  },
  {
   "cell_type": "code",
   "execution_count": 40,
   "metadata": {},
   "outputs": [
    {
     "data": {
      "text/plain": [
       "'d'"
      ]
     },
     "execution_count": 40,
     "metadata": {},
     "output_type": "execute_result"
    }
   ],
   "source": [
    "# Now we'd like to show the last character of the string\n",
    "a[-1]"
   ]
  },
  {
   "cell_type": "code",
   "execution_count": 43,
   "metadata": {},
   "outputs": [
    {
     "data": {
      "text/plain": [
       "'HlWl'"
      ]
     },
     "execution_count": 43,
     "metadata": {},
     "output_type": "execute_result"
    }
   ],
   "source": [
    "# Let's have all the characters with a step of 2\n",
    "a[::3]"
   ]
  },
  {
   "cell_type": "code",
   "execution_count": 44,
   "metadata": {},
   "outputs": [
    {
     "data": {
      "text/plain": [
       "'dlroW olleH'"
      ]
     },
     "execution_count": 44,
     "metadata": {},
     "output_type": "execute_result"
    }
   ],
   "source": [
    "# Inverse all the string\n",
    "a[::-1]"
   ]
  },
  {
   "cell_type": "code",
   "execution_count": 49,
   "metadata": {},
   "outputs": [
    {
     "data": {
      "text/plain": [
       "'Hello World, are you enjoying this?'"
      ]
     },
     "execution_count": 49,
     "metadata": {},
     "output_type": "execute_result"
    }
   ],
   "source": [
    "# let's use our string to concatenate with another string\n",
    "a + \", are you enjoying this?\""
   ]
  },
  {
   "cell_type": "code",
   "execution_count": 48,
   "metadata": {},
   "outputs": [],
   "source": [
    "# assign a variable for this operation\n",
    "b= a + \", are you enjoying this?\""
   ]
  },
  {
   "cell_type": "code",
   "execution_count": 51,
   "metadata": {},
   "outputs": [
    {
     "data": {
      "text/plain": [
       "'Hello World'"
      ]
     },
     "execution_count": 51,
     "metadata": {},
     "output_type": "execute_result"
    }
   ],
   "source": [
    "# let us check both variables assigned, first things first :)\n",
    "a"
   ]
  },
  {
   "cell_type": "code",
   "execution_count": 52,
   "metadata": {},
   "outputs": [
    {
     "data": {
      "text/plain": [
       "'Hello World, are you enjoying this?'"
      ]
     },
     "execution_count": 52,
     "metadata": {},
     "output_type": "execute_result"
    }
   ],
   "source": [
    "# Now the secound variable\n",
    "b"
   ]
  },
  {
   "cell_type": "code",
   "execution_count": 53,
   "metadata": {},
   "outputs": [
    {
     "name": "stdout",
     "output_type": "stream",
     "text": [
      "Hello World\n",
      "Hello World, are you enjoying this?\n"
     ]
    }
   ],
   "source": [
    "# Now we'd like to print both variables\n",
    "print(a)\n",
    "print(b)"
   ]
  },
  {
   "cell_type": "markdown",
   "metadata": {},
   "source": [
    "The next examples we'll show you how to make some \"operations\" with strings. \n",
    "\n",
    "Notice that you can only add or multiply, as follows:"
   ]
  },
  {
   "cell_type": "code",
   "execution_count": 57,
   "metadata": {},
   "outputs": [
    {
     "data": {
      "text/plain": [
       "'Hello World, are you enjoying this? Did you know that this was possible?'"
      ]
     },
     "execution_count": 57,
     "metadata": {},
     "output_type": "execute_result"
    }
   ],
   "source": [
    "# Add another string to a previous one\n",
    "b+\" Did you know that this was possible?\""
   ]
  },
  {
   "cell_type": "code",
   "execution_count": 59,
   "metadata": {},
   "outputs": [
    {
     "data": {
      "text/plain": [
       "'Hello World, are you enjoying this?Hello World, are you enjoying this?Hello World, are you enjoying this?Hello World, are you enjoying this?'"
      ]
     },
     "execution_count": 59,
     "metadata": {},
     "output_type": "execute_result"
    }
   ],
   "source": [
    "# Multiply a string by a value (it simply repeates the same string by the number taht is being mmultiplied)\n",
    "b*4"
   ]
  },
  {
   "cell_type": "code",
   "execution_count": 60,
   "metadata": {},
   "outputs": [
    {
     "data": {
      "text/plain": [
       "'HELLO WORLD, ARE YOU ENJOYING THIS?'"
      ]
     },
     "execution_count": 60,
     "metadata": {},
     "output_type": "execute_result"
    }
   ],
   "source": [
    "# Now let's put all the string in uppercase\n",
    "b.upper()"
   ]
  },
  {
   "cell_type": "code",
   "execution_count": 61,
   "metadata": {},
   "outputs": [
    {
     "data": {
      "text/plain": [
       "'hello world, are you enjoying this?'"
      ]
     },
     "execution_count": 61,
     "metadata": {},
     "output_type": "execute_result"
    }
   ],
   "source": [
    "# Ok, now we want it in lowercase\n",
    "b.lower()"
   ]
  },
  {
   "cell_type": "code",
   "execution_count": 66,
   "metadata": {},
   "outputs": [
    {
     "data": {
      "text/plain": [
       "['Hello', 'World,', 'are', 'you', 'enjoying', 'this?']"
      ]
     },
     "execution_count": 66,
     "metadata": {},
     "output_type": "execute_result"
    }
   ],
   "source": [
    "# splitting the string only by space\n",
    "b.split()"
   ]
  },
  {
   "cell_type": "code",
   "execution_count": 65,
   "metadata": {},
   "outputs": [
    {
     "data": {
      "text/plain": [
       "['Hell', ' W', 'rld, are y', 'u enj', 'ying this?']"
      ]
     },
     "execution_count": 65,
     "metadata": {},
     "output_type": "execute_result"
    }
   ],
   "source": [
    "# splitting the string by a letter\n",
    "b.split(\"o\")"
   ]
  },
  {
   "cell_type": "raw",
   "metadata": {},
   "source": [
    "Now we're going to add some text into a string.\n",
    "\n",
    "For this we have 3 ways to do so.\n",
    "\n",
    "In order for you to see the defferences we'll be putting all the 3 ways to achieve the same result."
   ]
  },
  {
   "cell_type": "code",
   "execution_count": 87,
   "metadata": {},
   "outputs": [],
   "source": [
    "# First example lets's just define a variable (you'll see way in a few moments)\n",
    "drink=\"hot coffee\""
   ]
  },
  {
   "cell_type": "code",
   "execution_count": 92,
   "metadata": {},
   "outputs": [
    {
     "name": "stdout",
     "output_type": "stream",
     "text": [
      "What would you like to drink? I'd like to have a hot coffee, please.\n",
      "What would you like to drink? I'd like to have a hot coffee, please.\n",
      "What would you like to drink? I'd like to have a hot coffee, please.\n"
     ]
    }
   ],
   "source": [
    "# First example\n",
    "\n",
    "print(\"What would you like to drink? I'd like to have a %s, please.\" % \"hot coffee\")\n",
    "\n",
    "print(\"What would you like to drink? I'd like to have a {}, please.\" .format (\"hot coffee\"))\n",
    "\n",
    "print(f\"What would you like to drink? I'd like to have a {drink}, please.\")"
   ]
  },
  {
   "cell_type": "code",
   "execution_count": 107,
   "metadata": {},
   "outputs": [],
   "source": [
    "# Now let's add 2 variable in the same string, for it we'll define 2 variables\n",
    "\n",
    "drink=\"hot coffee\"\n",
    "question=\"How much does it cost?\""
   ]
  },
  {
   "cell_type": "code",
   "execution_count": 108,
   "metadata": {},
   "outputs": [
    {
     "name": "stdout",
     "output_type": "stream",
     "text": [
      "What would you like to drink? I'd like to have a hot coffee, please. How much does it cost?\n",
      "What would you like to drink? I'd like to have a hot coffee, please. How much does it cost?\n",
      "What would you like to drink? I'd like to have a hot coffee, please. How much does it cost?\n"
     ]
    }
   ],
   "source": [
    "# First example\n",
    "\n",
    "print(\"What would you like to drink? I'd like to have a %s, please. %s\" % (\"hot coffee\", \"How much does it cost?\"))\n",
    "\n",
    "print(\"What would you like to drink? I'd like to have a {0}, please. {1}\" .format (\"hot coffee\", \"How much does it cost?\"))\n",
    "\n",
    "print(f\"What would you like to drink? I'd like to have a {drink}, please. {question}\")"
   ]
  },
  {
   "cell_type": "code",
   "execution_count": 112,
   "metadata": {},
   "outputs": [],
   "source": [
    "# Now let's add some number into a string\n",
    "price=\"2.88 €\""
   ]
  },
  {
   "cell_type": "code",
   "execution_count": 140,
   "metadata": {},
   "outputs": [
    {
     "name": "stdout",
     "output_type": "stream",
     "text": [
      "What would you like to drink? I'd like to have a hot coffee, please. How much does it cost? 2.88 €\n",
      "What would you like to drink? I'd like to have a hot coffee, please. How much does it cost?  2.88 €\n",
      "What would you like to drink? I'd like to have a hot coffee, please. How much does it cost?  2.88 €\n"
     ]
    }
   ],
   "source": [
    "# notice that we're formatting the number for only 2 decimal numbers\n",
    "\n",
    "print(\"What would you like to drink? I'd like to have a %s, please. %s %1.2f €\" \\\n",
    "      % (\"hot coffee\", \"How much does it cost?\", 2.88))\n",
    "\n",
    "print(\"What would you like to drink? I'd like to have a {0}, please. {1} {2} €\" \\\n",
    "      .format (\"hot coffee\", \"How much does it cost?\", \" 2.88\"))\n",
    "\n",
    "print(f\"What would you like to drink? I'd like to have a {drink}, please. {question}  {price}\")"
   ]
  },
  {
   "cell_type": "code",
   "execution_count": 181,
   "metadata": {},
   "outputs": [],
   "source": [
    "fprice=2.8800124"
   ]
  },
  {
   "cell_type": "code",
   "execution_count": 188,
   "metadata": {},
   "outputs": [
    {
     "name": "stdout",
     "output_type": "stream",
     "text": [
      "What would you like to drink? I'd like to have a hot coffee, please. How much does it cost? 2.88001240 €\n",
      "What would you like to drink? I'd like to have a hot coffee, please. How much does it cost?  2.8800124 €\n",
      "What would you like to drink? I'd like to have a hot coffee, please. How much does it cost?   2.8800124 €\n"
     ]
    }
   ],
   "source": [
    "# notice that we're formatting the number for 5 decimal numbers,\n",
    "# have in mind that example commented is needed to refer the number of the string that we'd like to add, and in what position.\n",
    "\n",
    "print(\"What would you like to drink? I'd like to have a %s, please. %s %10.8f €\" \\\n",
    "      % (\"hot coffee\", \"How much does it cost?\", 2.8800124))\n",
    "\n",
    "print(\"What would you like to drink? I'd like to have a {0}, please. {1} {2:10.8} €\" \\\n",
    "      .format (\"hot coffee\", \"How much does it cost?\", fprice))\n",
    "#                 0               1                     2             (number of each string)\n",
    "\n",
    "print(f\"What would you like to drink? I'd like to have a {drink}, please. {question}  {fprice:{10}.{8}} €\")"
   ]
  },
  {
   "cell_type": "markdown",
   "metadata": {},
   "source": [
    "Let's analyze the previous examples:\n",
    "\n",
    "%10.8f - total lenght of 10 numbers. total of 8 decimal characters;\n",
    "\n",
    "{2:10.8} - secound string: total lenght of 10 numbers. total of 8 characters (dot excluded);\n",
    "\n",
    "{fprice:{10}.{5}} - variable fprice:total lenght of 10 numbers. total of 8 characters (dot excluded)."
   ]
  }
 ],
 "metadata": {
  "kernelspec": {
   "display_name": "Python 3",
   "language": "python",
   "name": "python3"
  },
  "language_info": {
   "codemirror_mode": {
    "name": "ipython",
    "version": 3
   },
   "file_extension": ".py",
   "mimetype": "text/x-python",
   "name": "python",
   "nbconvert_exporter": "python",
   "pygments_lexer": "ipython3",
   "version": "3.6.5"
  }
 },
 "nbformat": 4,
 "nbformat_minor": 2
}
